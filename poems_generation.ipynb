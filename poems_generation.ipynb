{
 "cells": [
  {
   "cell_type": "code",
   "execution_count": 0,
   "metadata": {
    "colab": {
     "base_uri": "https://localhost:8080/",
     "height": 1385
    },
    "colab_type": "code",
    "id": "3-r_mplKtLjd",
    "outputId": "01c5939d-1d4d-43e4-d482-b1f50dbc24ae"
   },
   "outputs": [
    {
     "name": "stdout",
     "output_type": "stream",
     "text": [
      "Requirement already satisfied: fastai in /usr/local/lib/python3.6/dist-packages (1.0.46)\n",
      "Requirement already satisfied: packaging in /usr/local/lib/python3.6/dist-packages (from fastai) (19.0)\n",
      "Requirement already satisfied: beautifulsoup4 in /usr/local/lib/python3.6/dist-packages (from fastai) (4.6.3)\n",
      "Requirement already satisfied: numexpr in /usr/local/lib/python3.6/dist-packages (from fastai) (2.6.9)\n",
      "Requirement already satisfied: dataclasses; python_version < \"3.7\" in /usr/local/lib/python3.6/dist-packages (from fastai) (0.6)\n",
      "Requirement already satisfied: requests in /usr/local/lib/python3.6/dist-packages (from fastai) (2.18.4)\n",
      "Requirement already satisfied: scipy in /usr/local/lib/python3.6/dist-packages (from fastai) (1.1.0)\n",
      "Requirement already satisfied: torchvision in /usr/local/lib/python3.6/dist-packages (from fastai) (0.2.2.post2)\n",
      "Collecting numpy>=1.15 (from fastai)\n",
      "\u001b[?25l  Downloading https://files.pythonhosted.org/packages/35/d5/4f8410ac303e690144f0a0603c4b8fd3b986feb2749c435f7cdbb288f17e/numpy-1.16.2-cp36-cp36m-manylinux1_x86_64.whl (17.3MB)\n",
      "\u001b[K    100% |████████████████████████████████| 17.3MB 1.5MB/s \n",
      "\u001b[?25hRequirement already satisfied: Pillow in /usr/local/lib/python3.6/dist-packages (from fastai) (4.0.0)\n",
      "Requirement already satisfied: fastprogress>=0.1.19 in /usr/local/lib/python3.6/dist-packages (from fastai) (0.1.20)\n",
      "Requirement already satisfied: pyyaml in /usr/local/lib/python3.6/dist-packages (from fastai) (3.13)\n",
      "Requirement already satisfied: typing in /usr/local/lib/python3.6/dist-packages (from fastai) (3.6.6)\n",
      "Requirement already satisfied: torch>=1.0.0 in /usr/local/lib/python3.6/dist-packages (from fastai) (1.0.1.post2)\n",
      "Requirement already satisfied: matplotlib in /usr/local/lib/python3.6/dist-packages (from fastai) (3.0.3)\n",
      "Requirement already satisfied: pandas in /usr/local/lib/python3.6/dist-packages (from fastai) (0.22.0)\n",
      "Requirement already satisfied: nvidia-ml-py3 in /usr/local/lib/python3.6/dist-packages (from fastai) (7.352.0)\n",
      "Requirement already satisfied: bottleneck in /usr/local/lib/python3.6/dist-packages (from fastai) (1.2.1)\n",
      "Requirement already satisfied: spacy>=2.0.18 in /usr/local/lib/python3.6/dist-packages (from fastai) (2.0.18)\n",
      "Requirement already satisfied: pyparsing>=2.0.2 in /usr/local/lib/python3.6/dist-packages (from packaging->fastai) (2.3.1)\n",
      "Requirement already satisfied: six in /usr/local/lib/python3.6/dist-packages (from packaging->fastai) (1.11.0)\n",
      "Requirement already satisfied: urllib3<1.23,>=1.21.1 in /usr/local/lib/python3.6/dist-packages (from requests->fastai) (1.22)\n",
      "Requirement already satisfied: certifi>=2017.4.17 in /usr/local/lib/python3.6/dist-packages (from requests->fastai) (2018.11.29)\n",
      "Requirement already satisfied: chardet<3.1.0,>=3.0.2 in /usr/local/lib/python3.6/dist-packages (from requests->fastai) (3.0.4)\n",
      "Requirement already satisfied: idna<2.7,>=2.5 in /usr/local/lib/python3.6/dist-packages (from requests->fastai) (2.6)\n",
      "Requirement already satisfied: olefile in /usr/local/lib/python3.6/dist-packages (from Pillow->fastai) (0.46)\n",
      "Requirement already satisfied: cycler>=0.10 in /usr/local/lib/python3.6/dist-packages (from matplotlib->fastai) (0.10.0)\n",
      "Requirement already satisfied: python-dateutil>=2.1 in /usr/local/lib/python3.6/dist-packages (from matplotlib->fastai) (2.5.3)\n",
      "Requirement already satisfied: kiwisolver>=1.0.1 in /usr/local/lib/python3.6/dist-packages (from matplotlib->fastai) (1.0.1)\n",
      "Requirement already satisfied: pytz>=2011k in /usr/local/lib/python3.6/dist-packages (from pandas->fastai) (2018.9)\n",
      "Requirement already satisfied: thinc<6.13.0,>=6.12.1 in /usr/local/lib/python3.6/dist-packages (from spacy>=2.0.18->fastai) (6.12.1)\n",
      "Requirement already satisfied: murmurhash<1.1.0,>=0.28.0 in /usr/local/lib/python3.6/dist-packages (from spacy>=2.0.18->fastai) (1.0.2)\n",
      "Requirement already satisfied: plac<1.0.0,>=0.9.6 in /usr/local/lib/python3.6/dist-packages (from spacy>=2.0.18->fastai) (0.9.6)\n",
      "Requirement already satisfied: ujson>=1.35 in /usr/local/lib/python3.6/dist-packages (from spacy>=2.0.18->fastai) (1.35)\n",
      "Requirement already satisfied: regex==2018.01.10 in /usr/local/lib/python3.6/dist-packages (from spacy>=2.0.18->fastai) (2018.1.10)\n",
      "Requirement already satisfied: cymem<2.1.0,>=2.0.2 in /usr/local/lib/python3.6/dist-packages (from spacy>=2.0.18->fastai) (2.0.2)\n",
      "Requirement already satisfied: preshed<2.1.0,>=2.0.1 in /usr/local/lib/python3.6/dist-packages (from spacy>=2.0.18->fastai) (2.0.1)\n",
      "Requirement already satisfied: dill<0.3,>=0.2 in /usr/local/lib/python3.6/dist-packages (from spacy>=2.0.18->fastai) (0.2.9)\n",
      "Requirement already satisfied: setuptools in /usr/local/lib/python3.6/dist-packages (from kiwisolver>=1.0.1->matplotlib->fastai) (40.8.0)\n",
      "Requirement already satisfied: tqdm<5.0.0,>=4.10.0 in /usr/local/lib/python3.6/dist-packages (from thinc<6.13.0,>=6.12.1->spacy>=2.0.18->fastai) (4.28.1)\n",
      "Requirement already satisfied: msgpack-numpy<0.4.4 in /usr/local/lib/python3.6/dist-packages (from thinc<6.13.0,>=6.12.1->spacy>=2.0.18->fastai) (0.4.3.2)\n",
      "Collecting wrapt<1.11.0,>=1.10.0 (from thinc<6.13.0,>=6.12.1->spacy>=2.0.18->fastai)\n",
      "  Downloading https://files.pythonhosted.org/packages/a0/47/66897906448185fcb77fc3c2b1bc20ed0ecca81a0f2f88eda3fc5a34fc3d/wrapt-1.10.11.tar.gz\n",
      "Requirement already satisfied: cytoolz<0.10,>=0.9.0 in /usr/local/lib/python3.6/dist-packages (from thinc<6.13.0,>=6.12.1->spacy>=2.0.18->fastai) (0.9.0.1)\n",
      "Requirement already satisfied: msgpack<0.6.0,>=0.5.6 in /usr/local/lib/python3.6/dist-packages (from thinc<6.13.0,>=6.12.1->spacy>=2.0.18->fastai) (0.5.6)\n",
      "Requirement already satisfied: toolz>=0.8.0 in /usr/local/lib/python3.6/dist-packages (from cytoolz<0.10,>=0.9.0->thinc<6.13.0,>=6.12.1->spacy>=2.0.18->fastai) (0.9.0)\n",
      "Building wheels for collected packages: wrapt\n",
      "  Building wheel for wrapt (setup.py) ... \u001b[?25ldone\n",
      "\u001b[?25h  Stored in directory: /root/.cache/pip/wheels/48/5d/04/22361a593e70d23b1f7746d932802efe1f0e523376a74f321e\n",
      "Successfully built wrapt\n",
      "\u001b[31mtorchvision 0.2.2.post2 has requirement pillow>=4.1.1, but you'll have pillow 4.0.0 which is incompatible.\u001b[0m\n",
      "\u001b[31mpymc3 3.6 has requirement joblib<0.13.0, but you'll have joblib 0.13.2 which is incompatible.\u001b[0m\n",
      "\u001b[31mfeaturetools 0.4.1 has requirement pandas>=0.23.0, but you'll have pandas 0.22.0 which is incompatible.\u001b[0m\n",
      "\u001b[31malbumentations 0.1.12 has requirement imgaug<0.2.7,>=0.2.5, but you'll have imgaug 0.2.8 which is incompatible.\u001b[0m\n",
      "Installing collected packages: numpy, wrapt\n",
      "  Found existing installation: numpy 1.14.6\n",
      "    Uninstalling numpy-1.14.6:\n",
      "      Successfully uninstalled numpy-1.14.6\n",
      "  Found existing installation: wrapt 1.11.1\n",
      "    Uninstalling wrapt-1.11.1:\n",
      "      Successfully uninstalled wrapt-1.11.1\n",
      "Successfully installed numpy-1.16.2 wrapt-1.10.11\n"
     ]
    },
    {
     "data": {
      "application/vnd.colab-display-data+json": {
       "pip_warning": {
        "packages": [
         "numpy"
        ]
       }
      }
     },
     "metadata": {
      "tags": []
     },
     "output_type": "display_data"
    },
    {
     "name": "stdout",
     "output_type": "stream",
     "text": [
      "Looking in links: https://download.pytorch.org/whl/nightly/cu92/torch_nightly.html\n",
      "Collecting torch_nightly\n",
      "\u001b[?25l  Downloading https://download.pytorch.org/whl/nightly/cu92/torch_nightly-1.0.0.dev20181206-cp36-cp36m-linux_x86_64.whl (576.2MB)\n",
      "\u001b[K    100% |████████████████████████████████| 576.2MB 23kB/s \n",
      "\u001b[?25hInstalling collected packages: torch-nightly\n",
      "Successfully installed torch-nightly-1.0.0.dev20181206\n"
     ]
    }
   ],
   "source": [
    "!pip install fastai\n",
    "!pip install torch_nightly -f https://download.pytorch.org/whl/nightly/cu92/torch_nightly.html"
   ]
  },
  {
   "cell_type": "code",
   "execution_count": 0,
   "metadata": {
    "colab": {},
    "colab_type": "code",
    "id": "xpITNQhg0ktW"
   },
   "outputs": [],
   "source": [
    "import numpy as np \n",
    "import pandas as pd \n",
    "from fastai import *\n",
    "from fastai.text import *"
   ]
  },
  {
   "cell_type": "code",
   "execution_count": 0,
   "metadata": {
    "colab": {
     "base_uri": "https://localhost:8080/",
     "height": 611
    },
    "colab_type": "code",
    "id": "CLGfohGr0nss",
    "outputId": "47e98cec-61bc-498b-a151-ea07f00db3ca"
   },
   "outputs": [
    {
     "name": "stdout",
     "output_type": "stream",
     "text": [
      "                                    author  \\\n",
      "0                      WILLIAM SHAKESPEARE   \n",
      "1  DUCHESS OF NEWCASTLE MARGARET CAVENDISH   \n",
      "2                           THOMAS BASTARD   \n",
      "3                           EDMUND SPENSER   \n",
      "4                        RICHARD BARNFIELD   \n",
      "\n",
      "                                             content  \\\n",
      "0  Let the bird of loudest lay\\r\\nOn the sole Ara...   \n",
      "1  Sir Charles into my chamber coming in,\\r\\nWhen...   \n",
      "2  Our vice runs beyond all that old men saw,\\r\\n...   \n",
      "3  Lo I the man, whose Muse whilome did maske,\\r\\...   \n",
      "4  Long have I longd to see my love againe,\\r\\nSt...   \n",
      "\n",
      "                                 poem name          age                  type  \n",
      "0               The Phoenix and the Turtle  Renaissance  Mythology & Folklore  \n",
      "1                 An Epilogue to the Above  Renaissance  Mythology & Folklore  \n",
      "2                       Book 7, Epigram 42  Renaissance  Mythology & Folklore  \n",
      "3  from The Faerie Queene: Book I, Canto I  Renaissance  Mythology & Folklore  \n",
      "4                                Sonnet 16  Renaissance  Mythology & Folklore  \n",
      "                   author                                            content  \\\n",
      "568         SARA TEASDALE  With the man I love who loves me not,\\r\\nI wal...   \n",
      "569            HART CRANE  Hart Crane, \"Voyages I, II, III, IV, V, VI\" fr...   \n",
      "570  WILLIAM BUTLER YEATS  When you are old and grey and full of sleep,\\r...   \n",
      "571         CARL SANDBURG  Give me hunger,\\r\\nO you gods that sit and giv...   \n",
      "572     RICHARD ALDINGTON  Potuia, potuia\\r\\nWhite grave goddess,\\r\\nPity...   \n",
      "\n",
      "             poem name     age  type  \n",
      "568       Union Square  Modern  Love  \n",
      "569            Voyages  Modern  Love  \n",
      "570   When You Are Old  Modern  Love  \n",
      "571        At a Window  Modern  Love  \n",
      "572  To a Greek Marble  Modern  Love  \n"
     ]
    }
   ],
   "source": [
    "poem = pd.read_csv('../content/all.csv')\n",
    "print(poem.head())\n",
    "print(poem.tail())\n"
   ]
  },
  {
   "cell_type": "code",
   "execution_count": 0,
   "metadata": {
    "colab": {
     "base_uri": "https://localhost:8080/",
     "height": 377
    },
    "colab_type": "code",
    "id": "nEayGMxK1iLS",
    "outputId": "35c43520-377c-4142-859d-d94be6ce97bf"
   },
   "outputs": [
    {
     "name": "stdout",
     "output_type": "stream",
     "text": [
      "                                    author  \\\n",
      "0                      WILLIAM SHAKESPEARE   \n",
      "1  DUCHESS OF NEWCASTLE MARGARET CAVENDISH   \n",
      "2                           THOMAS BASTARD   \n",
      "3                           EDMUND SPENSER   \n",
      "4                        RICHARD BARNFIELD   \n",
      "\n",
      "                                             content  \\\n",
      "0  let the bird of loudest lay\\r\\non the sole ara...   \n",
      "1  sir charles into my chamber coming in,\\r\\nwhen...   \n",
      "2  our vice runs beyond all that old men saw,\\r\\n...   \n",
      "3  lo i the man, whose muse whilome did maske,\\r\\...   \n",
      "4  long have i longd to see my love againe,\\r\\nst...   \n",
      "\n",
      "                                 poem name          age                  type  \n",
      "0               The Phoenix and the Turtle  Renaissance  Mythology & Folklore  \n",
      "1                 An Epilogue to the Above  Renaissance  Mythology & Folklore  \n",
      "2                       Book 7, Epigram 42  Renaissance  Mythology & Folklore  \n",
      "3  from The Faerie Queene: Book I, Canto I  Renaissance  Mythology & Folklore  \n",
      "4                                Sonnet 16  Renaissance  Mythology & Folklore  \n"
     ]
    }
   ],
   "source": [
    "poem['content'] = poem['content'].str.lower()\n",
    "print(poem.head())"
   ]
  },
  {
   "cell_type": "code",
   "execution_count": 0,
   "metadata": {
    "colab": {},
    "colab_type": "code",
    "id": "To6YfFwP1wOp"
   },
   "outputs": [],
   "source": [
    "test_per = 0.05        # test percentage\n",
    "poem = poem.iloc[np.random.permutation(len(poem))]\n",
    "cut = int(test_per * len(poem)) + 1\n",
    "train_poem, test_poem = poem[cut:], poem[:cut]"
   ]
  },
  {
   "cell_type": "code",
   "execution_count": 0,
   "metadata": {
    "colab": {
     "base_uri": "https://localhost:8080/",
     "height": 35
    },
    "colab_type": "code",
    "id": "9Isn9nd61ynK",
    "outputId": "1592ac2f-46dd-4418-a8a6-617c9cec6e42"
   },
   "outputs": [
    {
     "name": "stdout",
     "output_type": "stream",
     "text": [
      "544 29\n"
     ]
    }
   ],
   "source": [
    "print(len(train_poem),len(test_poem))"
   ]
  },
  {
   "cell_type": "code",
   "execution_count": 0,
   "metadata": {
    "colab": {
     "base_uri": "https://localhost:8080/",
     "height": 71
    },
    "colab_type": "code",
    "id": "TE-mB_QO1-mj",
    "outputId": "2951dbe0-060f-45fe-dea6-a3c712ee9f49"
   },
   "outputs": [
    {
     "name": "stdout",
     "output_type": "stream",
     "text": [
      "Empty DataFrame\n",
      "Columns: [author, content, poem name, age, type]\n",
      "Index: []\n"
     ]
    }
   ],
   "source": [
    "# Pre-processing\n",
    "nan_row = poem[poem['content'].isnull()]\n",
    "print(nan_row)"
   ]
  },
  {
   "cell_type": "code",
   "execution_count": 0,
   "metadata": {
    "colab": {
     "base_uri": "https://localhost:8080/",
     "height": 109
    },
    "colab_type": "code",
    "id": "xqGNIV6n2F-3",
    "outputId": "983631ab-84d4-41ca-9d93-f46b8f876caa"
   },
   "outputs": [
    {
     "name": "stderr",
     "output_type": "stream",
     "text": [
      "/usr/local/lib/python3.6/dist-packages/fastai/data_block.py:498: UserWarning: You are labelling your items with CategoryList.\n",
      "Your valid set contained the following unknown labels, the corresponding items have been discarded.\n",
      "ORLANDO GIBBONS\n",
      "  if getattr(ds, 'warn', False): warn(ds.warn)\n"
     ]
    }
   ],
   "source": [
    "data_lm = TextLMDataBunch.from_df('content', train_poem, test_poem, text_cols = 'content', label_cols = 'author')\n",
    "data_clas = TextClasDataBunch.from_df('content', train_poem, test_poem, vocab = data_lm.train_ds.vocab, bs = 32)\n",
    "#data_lm.save('data_lm_export.pkl')\n",
    "#data_clas.save('data_clas_export.pkl')"
   ]
  },
  {
   "cell_type": "code",
   "execution_count": 0,
   "metadata": {
    "colab": {
     "base_uri": "https://localhost:8080/",
     "height": 103
    },
    "colab_type": "code",
    "id": "SNYda7w22TEU",
    "outputId": "0b4bbfe2-a5e9-439c-c10e-2906a03ceaef"
   },
   "outputs": [
    {
     "data": {
      "text/html": [
       "Total time: 06:06 <p><table border=\"1\" class=\"dataframe\">\n",
       "  <thead>\n",
       "    <tr style=\"text-align: left;\">\n",
       "      <th>epoch</th>\n",
       "      <th>train_loss</th>\n",
       "      <th>valid_loss</th>\n",
       "      <th>accuracy</th>\n",
       "      <th>time</th>\n",
       "    </tr>\n",
       "  </thead>\n",
       "  <tbody>\n",
       "    <tr>\n",
       "      <td>1</td>\n",
       "      <td>6.675148</td>\n",
       "      <td>5.750742</td>\n",
       "      <td>0.152902</td>\n",
       "      <td>06:06</td>\n",
       "    </tr>\n",
       "  </tbody>\n",
       "</table>"
      ],
      "text/plain": [
       "<IPython.core.display.HTML object>"
      ]
     },
     "metadata": {
      "tags": []
     },
     "output_type": "display_data"
    }
   ],
   "source": [
    "learn = language_model_learner(data_lm, arch=AWD_LSTM, drop_mult = 0.5)\n",
    "learn.fit_one_cycle(1, 1e-2)"
   ]
  },
  {
   "cell_type": "code",
   "execution_count": 0,
   "metadata": {
    "colab": {
     "base_uri": "https://localhost:8080/",
     "height": 103
    },
    "colab_type": "code",
    "id": "5u6M5yRe68TW",
    "outputId": "04996a51-c5b7-4fe1-f0d3-443498cdc46f"
   },
   "outputs": [
    {
     "data": {
      "text/html": [
       "Total time: 09:29 <p><table border=\"1\" class=\"dataframe\">\n",
       "  <thead>\n",
       "    <tr style=\"text-align: left;\">\n",
       "      <th>epoch</th>\n",
       "      <th>train_loss</th>\n",
       "      <th>valid_loss</th>\n",
       "      <th>accuracy</th>\n",
       "      <th>time</th>\n",
       "    </tr>\n",
       "  </thead>\n",
       "  <tbody>\n",
       "    <tr>\n",
       "      <td>1</td>\n",
       "      <td>5.602635</td>\n",
       "      <td>4.839277</td>\n",
       "      <td>0.236719</td>\n",
       "      <td>09:29</td>\n",
       "    </tr>\n",
       "  </tbody>\n",
       "</table>"
      ],
      "text/plain": [
       "<IPython.core.display.HTML object>"
      ]
     },
     "metadata": {
      "tags": []
     },
     "output_type": "display_data"
    }
   ],
   "source": [
    "learn.unfreeze()\n",
    "learn.fit_one_cycle(1, 1e-3)"
   ]
  },
  {
   "cell_type": "code",
   "execution_count": 0,
   "metadata": {
    "colab": {},
    "colab_type": "code",
    "id": "_WOhLlyp9hlX"
   },
   "outputs": [],
   "source": [
    "wd=1e-7\n",
    "lr=1e-3\n",
    "lrs = lr"
   ]
  },
  {
   "cell_type": "code",
   "execution_count": 0,
   "metadata": {
    "colab": {
     "base_uri": "https://localhost:8080/",
     "height": 382
    },
    "colab_type": "code",
    "id": "m2NqUv-t9qsw",
    "outputId": "371369ca-1101-40fe-e10f-4aa55e867457"
   },
   "outputs": [
    {
     "data": {
      "text/html": [
       "Total time: 1:33:36 <p><table border=\"1\" class=\"dataframe\">\n",
       "  <thead>\n",
       "    <tr style=\"text-align: left;\">\n",
       "      <th>epoch</th>\n",
       "      <th>train_loss</th>\n",
       "      <th>valid_loss</th>\n",
       "      <th>accuracy</th>\n",
       "      <th>time</th>\n",
       "    </tr>\n",
       "  </thead>\n",
       "  <tbody>\n",
       "    <tr>\n",
       "      <td>1</td>\n",
       "      <td>5.084971</td>\n",
       "      <td>4.625491</td>\n",
       "      <td>0.247098</td>\n",
       "      <td>09:14</td>\n",
       "    </tr>\n",
       "    <tr>\n",
       "      <td>2</td>\n",
       "      <td>4.878168</td>\n",
       "      <td>4.528723</td>\n",
       "      <td>0.253906</td>\n",
       "      <td>09:20</td>\n",
       "    </tr>\n",
       "    <tr>\n",
       "      <td>3</td>\n",
       "      <td>4.703879</td>\n",
       "      <td>4.468982</td>\n",
       "      <td>0.255357</td>\n",
       "      <td>09:15</td>\n",
       "    </tr>\n",
       "    <tr>\n",
       "      <td>4</td>\n",
       "      <td>4.526164</td>\n",
       "      <td>4.456409</td>\n",
       "      <td>0.257478</td>\n",
       "      <td>09:16</td>\n",
       "    </tr>\n",
       "    <tr>\n",
       "      <td>5</td>\n",
       "      <td>4.350982</td>\n",
       "      <td>4.445903</td>\n",
       "      <td>0.256696</td>\n",
       "      <td>09:17</td>\n",
       "    </tr>\n",
       "    <tr>\n",
       "      <td>6</td>\n",
       "      <td>4.164670</td>\n",
       "      <td>4.427321</td>\n",
       "      <td>0.254799</td>\n",
       "      <td>09:16</td>\n",
       "    </tr>\n",
       "    <tr>\n",
       "      <td>7</td>\n",
       "      <td>3.979441</td>\n",
       "      <td>4.458419</td>\n",
       "      <td>0.250446</td>\n",
       "      <td>09:13</td>\n",
       "    </tr>\n",
       "    <tr>\n",
       "      <td>8</td>\n",
       "      <td>3.798104</td>\n",
       "      <td>4.463895</td>\n",
       "      <td>0.252455</td>\n",
       "      <td>09:28</td>\n",
       "    </tr>\n",
       "    <tr>\n",
       "      <td>9</td>\n",
       "      <td>3.602679</td>\n",
       "      <td>4.462164</td>\n",
       "      <td>0.250223</td>\n",
       "      <td>09:38</td>\n",
       "    </tr>\n",
       "    <tr>\n",
       "      <td>10</td>\n",
       "      <td>3.421247</td>\n",
       "      <td>4.547796</td>\n",
       "      <td>0.248772</td>\n",
       "      <td>09:35</td>\n",
       "    </tr>\n",
       "  </tbody>\n",
       "</table>"
      ],
      "text/plain": [
       "<IPython.core.display.HTML object>"
      ]
     },
     "metadata": {
      "tags": []
     },
     "output_type": "display_data"
    }
   ],
   "source": [
    "learn.fit(10,lrs, wd)"
   ]
  },
  {
   "cell_type": "code",
   "execution_count": 0,
   "metadata": {
    "colab": {
     "base_uri": "https://localhost:8080/",
     "height": 55
    },
    "colab_type": "code",
    "id": "TkT1rZ81dQ6p",
    "outputId": "e0708da6-0f96-4daf-d206-e4330b959d9c"
   },
   "outputs": [
    {
     "data": {
      "text/plain": [
       "'xxbos i see two knights from each side : \\r \\n  to whom i a great prince of kings , \\r \\n  a lord of great great fortune , \\r \\n  beseeming with gifts of wit , \\r \\n  a peer , and a great prince , \\r \\n  till the latest day did not so well \\r \\n  \\r \\n  with a continual change , though they knew not what he was : \\r \\n  but when he came to thee , he made his happiest day , \\r \\n  which now did not last ; \\r \\n  his absence was one that might him lead . \\r \\n \\r \\n  but when , in terror , how many a great prince did he \\r \\n  \\r \\n  a man of good fortune , he died \\r \\n  he felt the years follow upon him , \\r \\n  but that he was not so short of care , \\r \\n  nor looked , nor in mind , \\r \\n '"
      ]
     },
     "execution_count": 13,
     "metadata": {
      "tags": []
     },
     "output_type": "execute_result"
    }
   ],
   "source": [
    "learn.predict(\"xxbos\", n_words=150, temperature=0.75)"
   ]
  },
  {
   "cell_type": "code",
   "execution_count": 0,
   "metadata": {
    "colab": {},
    "colab_type": "code",
    "id": "jlKfQ7X_eIb0"
   },
   "outputs": [],
   "source": [
    "number_of_poems = 15\n",
    "poems_counter = 0\n",
    "all_poems = []\n",
    "\n",
    "for i in range(1000):\n",
    "    poem = learn.predict(\"xxbos \", n_words=70, temperature=0.8)\n",
    "    poems = poem.split(\"xxbos \")\n",
    "    poems = poems[1:-1]\n",
    "    \n",
    "    for poem in poems:\n",
    "        poem = poem.replace(\"xxbos \",\"\").strip()\n",
    "        if(poem):\n",
    "            all_poems.append(poem)\n",
    "            poems_counter = poems_counter+1\n",
    "            \n",
    "    if poems_counter > number_of_poems:\n",
    "        break"
   ]
  },
  {
   "cell_type": "code",
   "execution_count": 0,
   "metadata": {
    "colab": {
     "base_uri": "https://localhost:8080/",
     "height": 325
    },
    "colab_type": "code",
    "id": "kxtV61Jh46mp",
    "outputId": "1cb5e1bd-1ed1-40f5-a8ea-cf6cceb36463"
   },
   "outputs": [
    {
     "data": {
      "text/plain": [
       "['the cross and the cross and me \\r \\n  are thee a - might hold , \\r \\n  and a good one are best . \\r \\n  love should not be of love , \\r \\n  but that for love , love .',\n",
       " 'whether either were there , or not , what have you done , how guilty , what is your right , \\r \\n  why do you make your great change ? \\r \\n  whether that be rights vacant or died .',\n",
       " 'the songs i from my songs pass \\r \\n  from the wild poems of poets . copyright 1993 by ezra pound . reprinted by permission of new directions publishing corporation .',\n",
       " 'some 1928 treason of poet',\n",
       " \"Tom o ' Of Time , the collected poems of poet george p. yeats , edited by george j. firmage . copyright 1933 , 1951 , 1954 by wallace stevens . used by permission of asphodel press / acorn alliance .\",\n",
       " 'archibald macleish , the golden cross from selected poems , published by harpercollins publishers australia . used by permission .',\n",
       " 'kenneth slessor , surge from selected poems , published by harpercollins publishers australia . used by permission .',\n",
       " 'a sweet eyne from selected poems , copyright 1994 by michael anania . used by permission of asphodel press / acorn alliance .',\n",
       " 'my love is an imprint of the doubleday publishing group , a division of random house , inc . all rights reserved .',\n",
       " 'michael anania , the image of the spring in the text of poems . copyright 1994 by michael anania . used by permission of asphodel press / acorn alliance .',\n",
       " 'the holly leaves her dead , \\r \\n  and the bell lye \\r \\n  at her hand to back : \\r \\n  till the fire has ceased , \\r \\n  her neck can not be and will .',\n",
       " 'the eagle appears in the window , \\r \\n  the overhead moon , \\r \\n  and the sun his beams , \\r \\n  the stars in his hand . \\r \\n \\r \\n  he himself has a voice along with his paired hands , \\r \\n  and for a man - child eye \\r \\n  is gone .',\n",
       " 'my poems , i was , in the field of my verse , published by harpercollins publishers australia . used by permission .',\n",
       " 'me , o dear , let not in me o love , \\r \\n  what thou art not good in thy face , \\r \\n  you can not live with me , and do not dare . \\r \\n  love is not mine , nor thou , nor thou , but love .',\n",
       " 'alan macleish , in a flower from selected poems . copyright 1993 by michael anania . used by permission of asphodel press / acorn alliance .',\n",
       " 'kenneth spender , at its request , from selected poetry . copyright 1992 by michael anania . used by permission of liveright publishing corporation .']"
      ]
     },
     "execution_count": 17,
     "metadata": {
      "tags": []
     },
     "output_type": "execute_result"
    }
   ],
   "source": [
    "all_poems"
   ]
  },
  {
   "cell_type": "code",
   "execution_count": 0,
   "metadata": {
    "colab": {},
    "colab_type": "code",
    "id": "Ly6CgUKO6P_i"
   },
   "outputs": [],
   "source": [
    "outF = open(\"../content/poem.txt\", \"w\")\n",
    "for poem_a in all_poems:\n",
    "  # write line to output file\n",
    "  outF.write(poem_a)\n",
    "  outF.write(\"\\n***********************************************************************************\\n\")\n",
    "outF.close()"
   ]
  },
  {
   "cell_type": "code",
   "execution_count": 27,
   "metadata": {
    "colab": {
     "base_uri": "https://localhost:8080/",
     "height": 55
    },
    "colab_type": "code",
    "id": "zn7Tk4y-_qb9",
    "outputId": "92b6f3f1-8faa-4518-8534-3fc44f2bf698"
   },
   "outputs": [
    {
     "data": {
      "text/plain": [
       "'xxbos xxfld 1 , 1917 with the permission of a. p. watt , ltd . on behalf of michael yeats . xxbos when i have heard the rain slide through my heart , \\r \\n  i once again heard'"
      ]
     },
     "execution_count": 27,
     "metadata": {
      "tags": []
     },
     "output_type": "execute_result"
    }
   ],
   "source": [
    "learn.predict(\"xxbos xxfld 1\", n_words=35, temperature=0.8)"
   ]
  },
  {
   "cell_type": "code",
   "execution_count": 0,
   "metadata": {
    "colab": {},
    "colab_type": "code",
    "id": "8IRBC4TM9zo9"
   },
   "outputs": [],
   "source": [
    "number_of_poems1 = 30\n",
    "poems_counter1 = 0\n",
    "all_poems1 = []\n",
    "\n",
    "for i in range(1000):\n",
    "    poem1 = learn.predict(\"xxbos \", n_words=150, temperature=0.8)\n",
    "    poems1 = poem1.split(\"xxbos \")\n",
    "    poems1 = poems1[1:-1]\n",
    "    \n",
    "    for poem1 in poems1:\n",
    "      if (\"copyright\" or \"published\") not in poem1:\n",
    "        poem1 = poem1.replace(\"xxbos \",\"\").strip()\n",
    "        if(poem1):\n",
    "            all_poems1.append(poem1)\n",
    "            poems_counter1 = poems_counter1+1\n",
    "            \n",
    "    if poems_counter1 > number_of_poems1:\n",
    "        break"
   ]
  },
  {
   "cell_type": "code",
   "execution_count": 35,
   "metadata": {
    "colab": {
     "base_uri": "https://localhost:8080/",
     "height": 325
    },
    "colab_type": "code",
    "id": "nwn75n8PEat5",
    "outputId": "005c811d-65d6-41a5-9659-38c3866e9c85"
   },
   "outputs": [
    {
     "data": {
      "text/plain": [
       "['be beyond your reach , and be my love , \\r \\n  for thus i love my love , that i love . \\r \\n  but if i take too much faith , \\r \\n  as a child i may not love my love , \\r \\n  yet will leave my love as love in love .',\n",
       " 'my love is not always fragile , \\r \\n  but the heart is grown \\r \\n  of a grace to which she is many : \\r \\n  and for all the reason her mind is owne , \\r \\n  the heart of my eternity doth stand , \\r \\n  to be resurrection , and to allow it to be .',\n",
       " \"t '\",\n",
       " \"michael anania , fall from complete poems : 1954 , 1954 by random house , 1958 . reprinted with the permission of farrar , straus & giroux , llc , http : / / us.macmillan.com / fsg . all rights 'll be reserved .\",\n",
       " 'all the day it had been spread , \\r \\n  and all the more , the only thing \\r \\n  which we are great , \\r \\n  would not have worth a corner to lose ; \\r \\n  but when we over the clock \\r \\n  they catch the little birds \\r \\n  that are the next reason you love you .',\n",
       " 'originally published in poetry , august 1914 .',\n",
       " 'i remember the first time the first time that i heard a cry , \\r \\n  and listening , to a woman play , \\r \\n  and say she was a woman , \\r \\n  \" i know what it is , \" and lay \\r \\n  in the roadway of a table \\r \\n  where i was originally going .',\n",
       " 'kenneth slessor , summer from selected poems , published by harpercollins publishers australia . used by permission .',\n",
       " 'the record of my rule is gone , \\r \\n  when you be taken away , you are gone . \\r \\n  i am dead , and now i am a murderer . \\r \\n  give me my heart , blood , look , bones , heart , till i end my song .',\n",
       " 'bone in the print anthology , first published by harpercollins publishers australia . used by permission .',\n",
       " 'merry nurse , in a new edition , published by harpercollins publishers australia . used by permission .',\n",
       " 'originally published in poetry , march 1914 .',\n",
       " 'o sweet fair moon , how fair , \\r \\n  how dull you are , \\r \\n  not when you are young , \\r \\n  but that i have seen and loved not yet , \\r \\n  which touches me in her eyes ; \\r \\n  like in the sunlight the moon is still , \\r \\n  but in the thought of love .',\n",
       " 'take the air that was my love , and that i saw the blackbird \\r \\n  in the early days of the i',\n",
       " 'the snow on the snow wrapt in the snow , \\r \\n  on the snow - wind aloft , above the snow - wind , \\r \\n  shall i burn as a snow - wind wind \\r \\n  and blow the snow - wind down the snow - wind .',\n",
       " 'love will still arise ! \\r \\n  sing , love , and all things long are \\r \\n  i do not know .']"
      ]
     },
     "execution_count": 35,
     "metadata": {
      "tags": []
     },
     "output_type": "execute_result"
    }
   ],
   "source": [
    "all_poems1"
   ]
  },
  {
   "cell_type": "code",
   "execution_count": 0,
   "metadata": {
    "colab": {},
    "colab_type": "code",
    "id": "mPNlgOKUNUcC"
   },
   "outputs": [],
   "source": [
    "outF = open(\"../content/poem_more.txt\", \"w\")\n",
    "for poem_a in all_poems:\n",
    "  # write line to output file\n",
    "  outF.write(poem_a)\n",
    "  outF.write(\"\\n*******************************************************************************************\\n\")\n",
    "outF.close()"
   ]
  },
  {
   "cell_type": "code",
   "execution_count": 0,
   "metadata": {
    "colab": {},
    "colab_type": "code",
    "id": "Fwuixl_iOdqi"
   },
   "outputs": [],
   "source": [
    "number_of_poems1 = 30\n",
    "poems_counter1 = 0\n",
    "all_poems2 = []\n",
    "\n",
    "for i in range(1000):\n",
    "    poem = learn.predict(\"xxbos \", n_words=150, temperature=0.82)\n",
    "    poems1 = poem1.split(\"xxbos \")\n",
    "    poems1 = poems1[1:-1]\n",
    "    \n",
    "    for poem1 in poems1:\n",
    "      if (\"copyright\" or \"published\" or \"publishers\" or \"inc\" or \"originally\") not in poem1:\n",
    "        poem1 = poem1.replace(\"xxbos \",\"\").strip()\n",
    "        if(poem1):\n",
    "            all_poems1.append(poem1)\n",
    "            poems_counter1 = poems_counter1+1\n",
    "            \n",
    "    if poems_counter1 > number_of_poems1:\n",
    "        break"
   ]
  },
  {
   "cell_type": "code",
   "execution_count": 38,
   "metadata": {
    "colab": {
     "base_uri": "https://localhost:8080/",
     "height": 595
    },
    "colab_type": "code",
    "id": "S3r8TAaVQZe_",
    "outputId": "7d5e708a-5a2d-4920-90ec-39427f15549d"
   },
   "outputs": [
    {
     "data": {
      "text/plain": [
       "['an angel that hath taught me to \\r \\n  often wept with woe , and carelesse dear sympathy \\r \\n  with a strong rhyme to the end , \\r \\n  a lovely child , a lovely boy , \\r \\n  to joy , a joy , to feel , \\r \\n  to love , and care to be . \\r \\n \\r \\n  who , as he before he won , \\r \\n  his bodies were not their worth : \\r \\n  his body chorus were adorned with \\r \\n  eke i must have , \\r \\n  long since the first dark of a day \\r \\n  did grow in vain . \\r \\n \\r \\n  the earth still things stand , \\r \\n  and the deaths - love thee \\r \\n  storms , whose deaths are now eternal wars , \\r \\n  strive no more for those lovers deaths .',\n",
       " \"go down the roadway , breaking through a bush , \\r \\n  and looking like the hero , naught as a young maiden , \\r \\n  so momus , full of fear and shame , \\r \\n  that i in his meek lie lonely in the dark . \\r \\n  then build a map of heaven by ; \\r \\n  you see me , that 's not right , \\r \\n  the dark skies , \\r \\n  the fields where are the grass \\r \\n  and the sky , \\r \\n  the sun , and the shadow , \\r \\n  the stars and the stars !\",\n",
       " 'some lovely thing i seen in you , \\r \\n  when i went to some hills , \\r \\n  and now i saw how the wind did thrust his small company into view , \\r \\n  i came to play my horse , \\r \\n  and once more i went back , and caught the apple - aged man , thinking he was a boy , \\r \\n  by some roar he heard the scream of a dog in the spring ; \\r \\n  and you came to hear the play again .',\n",
       " 'in peace , with delight and delight , \\r \\n  rebel and rebel , \\r \\n  in kind , apace still fires \\r \\n  their destiny , itself map , \\r \\n  is lawful to thee . \\r \\n  but in vain will you importune your joy ; \\r \\n  with woe and shame , \\r \\n  with love and hate , full sacrifice , \\r \\n  and enjoyed , for i will call thee \\r \\n  a divine prayer .',\n",
       " 'the clouds are spread across the fly \\r \\n  and touch me in the dark clouds \\r \\n  and you , lo ! tell me , \\r \\n  how far off , the skies \\r \\n  stand still and make my showers \\r \\n  and i shall fly out to the starry shore \\r \\n  where you are coming . \\r \\n  and you , who are hungry for you , \\r \\n  have gone to the west \\r \\n  for the rain it had won .',\n",
       " \"when i watched the daylight from the forest of my heart \\r \\n  i guess my heart , \\r \\n  but now that i am old with haste i \\r \\n  stand in the dark night and race \\r \\n  in the evening 's fog and through the dusk and the evening \\r \\n  i breathe and remember now . . . \\r \\n \\r \\n  you have heard the sudden loss of dead \\r \\n  and my buried body in the air . \\r \\n \\r \\n \\r \\n  2 \\r \\n  they came from the dead , \\r \\n  and the dead were gone ; \\r \\n  they were gone , and no more , \\r \\n  and the death - bed \\r \\n  was stolen from me .\",\n",
       " \"england 's ancient songs \\r \\n  songs still pass \\r \\n  they from the sweet music of that green youth . \\r \\n  and we , who now sing of poets or poets , \\r \\n  compare with those songs , \\r \\n  but thou , boldly to thee , \\r \\n  thou art not to hear before ; \\r \\n  for thou art not strong enough to make a song so strong ; \\r \\n  nor \\r \\n  so much as we can , that in thy waning , \\r \\n  and nothing can restore all our hearts .\",\n",
       " 'love me , as the elpenor , \\r \\n  will trust to her to do , \\r \\n  for her love doth beauty grew , \\r \\n  skies in moon dreams lightning ; \\r \\n  she will fly , and her hair is also black . \\r \\n  i do love thee , and love , \\r \\n  that doth hurt me , you should not trust . \\r \\n \\r \\n  but the muse will be \\r \\n  a woman , and a goddess , \\r \\n  a divine king , \\r \\n  with one eye , one face and two eyes , \\r \\n  as well as a heaven standing in heaven .',\n",
       " 'the tree in my heart wherein love is not \\r \\n  that i am thinking of , \\r \\n  from where we can not watch , \\r \\n  being true \\r \\n  with a love - hate story , \\r \\n  for the truth thoughts of men . \\r \\n  but since we are two lovers , \\r \\n  here is more than one . \\r \\n  why should we free our love , \\r \\n  if we can love and love , yet love is not love .',\n",
       " 'a coming that may not mean our minds \\r \\n  is what dost thou , but me , ? \\r \\n  or i , who can not live with me so \\r \\n  and that i must live in this mood \\r \\n  according to your thoughts ; \\r \\n  but if i can not find , \\r \\n  since i feel my pain , and not yet to be , \\r \\n  i am sick , i must die . \\r \\n  and now i am sick for a day . \\r \\n  i must die without thee , \\r \\n  i will thy since i am dead . \\r \\n  and if methought in me my bed doth hold my head , \\r \\n  let me not yet be free ; \\r \\n  i will drink thee to thee .',\n",
       " 'april !',\n",
       " \"o come , my little child , \\r \\n  that s not my heart , nor no child 's shed \\r \\n  which my heart doth bring , \\r \\n  that make me not to die , \\r \\n  nor me to leave the heir \\r \\n  i must die if you look ; yet should i dare to live in famine , \\r \\n  living in death , and a full complement \\r \\n  made in me i shall live and death .\",\n",
       " 'spurs admit , \\r \\n  those sweet birds have sought , but none are good . \\r \\n  now have you get their chariot ? \\r \\n  i can not walk on thrice , but i do owe thee : \\r \\n  south west i see you in the moonlight of day \\r \\n  and night and day , \\r \\n  and night walks on and rocks that are cold .',\n",
       " 'region , dark thief , \\r \\n  all forsaking , \\r \\n  all male , \\r \\n  nor i can admit any of these words , but not list to talk of \\r \\n  \\r \\n  i have seen my heart , and i have loved \\r \\n  my love , and got this published .',\n",
       " \"when When the world sings , \\r \\n  but mine kindly behold , \\r \\n  and sit here in thy dreams , \\r \\n  \\r \\n  and all these , good and happy morrow , \\r \\n  of world 's fair and lovely world , \\r \\n  the world is like to the sea . \\r \\n  when fruits are compounded , and they still \\r \\n  seek the best , where your extremes do fade , \\r \\n  then , in every meadow , \\r \\n  i hear you . \\r \\n  in the garden , \\r \\n  and there 's no snow ; \\r \\n  when the little snow \\r \\n  falls from the air , \\r \\n  you hear , and let me sing , \\r \\n  i ever heard the wave .\",\n",
       " 'i saw i was at six i runs away ; \\r \\n  i have seen my face change again , \\r \\n  and suddenly i saw the pride of the moon \\r \\n  and the holy snow not far away ; \\r \\n  nor could any hour my shadow hear , \\r \\n  see me , as no such thing doth be seen \\r \\n  when a fire was set on the floor , \\r \\n  yet did not make me a dame to rest . \\r \\n  nor could i pass but a great store , \\r \\n  let me hear the lullaby of my mind \\r \\n  and forgets how to write my letter . \\r \\n  o , if i have loved a friend , \\r \\n  should i have seen you , ! \\r \\n  i never had an honest mind , till i had passed away .',\n",
       " 'the change in my heart from thee and love \\r \\n  i have seen my heart the thing never before i died ! \\r \\n  in december i was a boy and a boy , like a baby , being a boy .',\n",
       " 'on houghton mifflin , the daughter of baltimore , \\r \\n  you nine months old were gone , \\r \\n  but all turned to the wine and wine , \\r \\n  and all the plaine , \\r \\n  and all the pretty trees , \\r \\n  and the springs of the great , \\r \\n  with lovely lining flowers \\r \\n  like silver apples that never came . \\r \\n  but when i came home when i saw thorough love \\r \\n  \\r \\n  towns and cities , i never knew my true love would \\r \\n  be there to find her sweet , \\r \\n  and there would be no love .',\n",
       " 'michael anania , a new edition of michael anania . used by permission of asphodel press / acorn alliance .',\n",
       " 'he hath been a winter heir of doth , \\r \\n  as a tall southern bound may come to play , \\r \\n  though to a great foe , more a friend , \\r \\n  pools in shame , and more enmity to him ; \\r \\n  envy , to him that shall lose you , \\r \\n  you may have been a shame , but as a girl , i could not find \\r \\n  that loved me , and yet did not forget ; \\r \\n \\r \\n  for i have known them all and loved , i have loved them yet . \\r \\n  and yet - since i am , i must be here , \\r \\n  they say , those lips of love that have not they been \\r \\n  through which all doth felt .',\n",
       " 'let me not unto my love \\r \\n  that she may buy \\r \\n  with love , and ever be made \\r \\n  to talk of beauty at first sight ; \\r \\n  but when we begin , she turns away \\r \\n  the apples of the moon , \\r \\n  i am caught in a pool , and tears come from her eyes \\r \\n  and she thinks she will be forgotten . \\r \\n \\r \\n  a toy , a toy , is nectar , \\r \\n  full in all these ; \\r \\n  when i do sing , \\r \\n  love is dead . \\r \\n  alas , that i shall not sing , \\r \\n  nor sing , nor love , \\r \\n  but when i lift my head , \\r \\n  will let me sing .',\n",
       " 'i whip you on the floor , \\r \\n  and a little bird in the window \\r \\n  leaves you open ! you ride with me , \\r \\n  you have the right . \\r \\n  you are here ! you are here ! . . . and here is a man among the white horses , \\r \\n  and the horse has his hand , \\r \\n  and his hand comes in and out of his hand , \\r \\n  and a hand in hand lies here .',\n",
       " \"the man of whom i was since gained i , \\r \\n  was much more bright and nearly served as the village \\r \\n  he found my friend and lover , and now his mistress , \\r \\n \\r \\n  and he now has the tree to him : \\r \\n  oh , he may pleasant heart 's sponge \\r \\n  go , and go to the garden \\r \\n  a village i hardly knew since his love \\r \\n  lived in me since his death , \\r \\n  since i am dead , \\r \\n  i 'll be my love .\",\n",
       " 'we know why the devil put in jail \\r \\n  a furrows in the wall , \\r \\n  that father could leave you alone ? \\r \\n  but the better servants have no remorse \\r \\n  for being about , and in regard to thee \\r \\n  no man but a lady doth higher . \\r \\n  new self - is my bold mate , \\r \\n  let them pass , \\r \\n  they all in thy best for to show . \\r \\n  for , like a living long living , \\r \\n  the worst disease of love , \\r \\n  i lest , should these earth i not die , \\r \\n  i will leave a little \\r \\n  in heaven , but then , without a heart , \\r \\n  for this i never stay .',\n",
       " \"it is not a christian hymn , nor a hymn , but a hymn . \\r \\n  that is in verse , \\r \\n  poor youth , in with no need to accept . \\r \\n  a heart , but doubts and pain . \\r \\n  ' cause you are not dead , love ? \\r \\n  but love , pleasures with love , \\r \\n  love leave to thee , and love , \\r \\n  love to him . \\r \\n \\r \\n  if thou be deaf , \\r \\n  then need not be too late . \\r \\n  love is with love and hate , \\r \\n  and no man loves more .\",\n",
       " 'my love is indeed a flower , \\r \\n  to be fair only , and yet not pure : \\r \\n  that from the sun doth lie \\r \\n  and hide his loves , and on his tread , \\r \\n  and fear . to his sight , \\r \\n  his pillow , and my veins , \\r \\n  to heart , that he hath loved , and told , \\r \\n  and that one thing ye so love shall bear , \\r \\n  and that he lives with him .',\n",
       " \"let me , since thy beauty doth grieve , \\r \\n  be not your mistress , nor the angel that hath fled ? \\r \\n  who , when a fire be honouring that doth bide , \\r \\n  \\r \\n  think that it was a joys lyfe , \\r \\n  to live with me , and be thy love ? \\r \\n  or should i have seen \\r \\n  my lover 's body a grave , \\r \\n  to let low , though that fire be dead \\r \\n  to day and night ? \\r \\n  nor so forth i may see \\r \\n  what has come when you are coming .\",\n",
       " 'the silver face of thy face , \\r \\n  and of all several gold - giving towers , \\r \\n  is this fortress of honour , \\r \\n  in which the world is headed by beauty \\r \\n  which knows the nature and nature of the mind . \\r \\n  here trees , which share you with your goodly star , \\r \\n  show you , and you , you are true . \\r \\n  in the form you play , you come and come , \\r \\n  to come to your comfort , \\r \\n  in vain you thoughts of love .',\n",
       " 'my love is a marriage , \\r \\n  both love and sorrow are also \\r \\n  as old and as sacred as the sun ; \\r \\n  and , as the light of the sun doth move \\r \\n  such breath \\r \\n  may be taken , from which it falls ; \\r \\n  for love is its love ; \\r \\n  it is to be wake of love , \\r \\n  but it may not be , \\r \\n  nor love , as love is .',\n",
       " 'what fair will my heart shine ! \\r \\n  i never saw a rose in my breast \\r \\n  \\r \\n  with a smile they strongly desired , \\r \\n  a wish and a hope , that my love should be jest : \\r \\n  all while all my lips snap , \\r \\n  into my blood they stare , and \\r \\n  surge of the sun \\r \\n  can show your eyes , \\r \\n  and to me they be .',\n",
       " \"mistress of love , since my love did not work , \\r \\n  i must love that thing which i sing \\r \\n  , but not love 's bliss . \\r \\n \\r \\n  since i did kept \\r \\n  , or ever had ; \\r \\n  when i was old , i tended and loved \\r \\n  the winter , where summers nights were . \\r \\n  when did it take \\r \\n  what time i call \\r \\n  a spring or end out of vain sight , \\r \\n  through a darkness of scattered array \\r \\n  which still white might appear ? \\r \\n  and then , in a secret flame , \\r \\n  every one doth shook , \\r \\n  and wept with goodly breath \\r \\n  and sweet taste of all the stars .\"]"
      ]
     },
     "execution_count": 38,
     "metadata": {
      "tags": []
     },
     "output_type": "execute_result"
    }
   ],
   "source": [
    "all_poems1"
   ]
  },
  {
   "cell_type": "code",
   "execution_count": 0,
   "metadata": {
    "colab": {},
    "colab_type": "code",
    "id": "enuUJYNyQn43"
   },
   "outputs": [],
   "source": [
    "outF = open(\"../content/better_poems.txt\", \"w\")\n",
    "j = 0\n",
    "for poem_a in all_poems1:\n",
    "  # write line to output file\n",
    "  j=j+1\n",
    "  outF.write(poem_a)\n",
    "  outF.write(\"\\n \"+str(j)+\" \\n*********************************************************************************************\\n\\n\")\n",
    "outF.close()"
   ]
  }
 ],
 "metadata": {
  "accelerator": "TPU",
  "colab": {
   "collapsed_sections": [],
   "name": "poems_generation.ipynb",
   "provenance": [],
   "version": "0.3.2"
  },
  "kernelspec": {
   "display_name": "Python 3",
   "language": "python",
   "name": "python3"
  },
  "language_info": {
   "codemirror_mode": {
    "name": "ipython",
    "version": 3
   },
   "file_extension": ".py",
   "mimetype": "text/x-python",
   "name": "python",
   "nbconvert_exporter": "python",
   "pygments_lexer": "ipython3",
   "version": "3.6.7"
  }
 },
 "nbformat": 4,
 "nbformat_minor": 1
}
